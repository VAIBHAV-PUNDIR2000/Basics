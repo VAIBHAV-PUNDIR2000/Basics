{
 "cells": [
  {
   "cell_type": "code",
   "execution_count": 1,
   "metadata": {},
   "outputs": [],
   "source": [
    "import numpy as np\n",
    "import pandas as pd\n",
    "import matplotlib.pyplot as plt\n"
   ]
  },
  {
   "cell_type": "markdown",
   "metadata": {},
   "source": [
    "### <i>NUMPY</i>"
   ]
  },
  {
   "cell_type": "code",
   "execution_count": 2,
   "metadata": {},
   "outputs": [
    {
     "data": {
      "text/plain": [
       "array([1, 2, 3])"
      ]
     },
     "execution_count": 2,
     "metadata": {},
     "output_type": "execute_result"
    }
   ],
   "source": [
    "\n",
    "a2=np.array([1,2,3])\n",
    "a2\n"
   ]
  },
  {
   "cell_type": "code",
   "execution_count": 3,
   "metadata": {},
   "outputs": [],
   "source": [
    "a3=np.array([\n",
    "        [\n",
    "            [1,2,3],[4,5,6],[7,8,9]\n",
    "        ],\n",
    "        [\n",
    "            [10,11,12],[13,14,15],[16,17,18.2]\n",
    "        ]\n",
    "    ]\n",
    ") "
   ]
  },
  {
   "cell_type": "code",
   "execution_count": 4,
   "metadata": {},
   "outputs": [
    {
     "name": "stdout",
     "output_type": "stream",
     "text": [
      "(3,)\n",
      "(2, 3, 3)\n",
      "1\n",
      "3\n",
      "int32\n",
      "float64\n"
     ]
    }
   ],
   "source": [
    "#shape \n",
    "print(a2.shape)\n",
    "print(a3.shape)\n",
    "\n",
    "#number of dimensions\n",
    "print(a2.ndim)\n",
    "print(a3.ndim)\n",
    "\n",
    "#data type of array\n",
    "print(a2.dtype)\n",
    "print(a3.dtype)"
   ]
  },
  {
   "cell_type": "markdown",
   "metadata": {},
   "source": [
    "#### <mark>IMP:</mark> Create a dataframe with the help of numpy "
   ]
  },
  {
   "cell_type": "code",
   "execution_count": 5,
   "metadata": {},
   "outputs": [
    {
     "data": {
      "text/html": [
       "<div>\n",
       "<style scoped>\n",
       "    .dataframe tbody tr th:only-of-type {\n",
       "        vertical-align: middle;\n",
       "    }\n",
       "\n",
       "    .dataframe tbody tr th {\n",
       "        vertical-align: top;\n",
       "    }\n",
       "\n",
       "    .dataframe thead th {\n",
       "        text-align: right;\n",
       "    }\n",
       "</style>\n",
       "<table border=\"1\" class=\"dataframe\">\n",
       "  <thead>\n",
       "    <tr style=\"text-align: right;\">\n",
       "      <th></th>\n",
       "      <th>0</th>\n",
       "      <th>1</th>\n",
       "      <th>2</th>\n",
       "    </tr>\n",
       "  </thead>\n",
       "  <tbody>\n",
       "    <tr>\n",
       "      <th>0</th>\n",
       "      <td>1.0</td>\n",
       "      <td>2.0</td>\n",
       "      <td>3.0</td>\n",
       "    </tr>\n",
       "    <tr>\n",
       "      <th>1</th>\n",
       "      <td>4.0</td>\n",
       "      <td>5.0</td>\n",
       "      <td>6.0</td>\n",
       "    </tr>\n",
       "    <tr>\n",
       "      <th>2</th>\n",
       "      <td>7.0</td>\n",
       "      <td>8.0</td>\n",
       "      <td>9.0</td>\n",
       "    </tr>\n",
       "  </tbody>\n",
       "</table>\n",
       "</div>"
      ],
      "text/plain": [
       "     0    1    2\n",
       "0  1.0  2.0  3.0\n",
       "1  4.0  5.0  6.0\n",
       "2  7.0  8.0  9.0"
      ]
     },
     "execution_count": 5,
     "metadata": {},
     "output_type": "execute_result"
    }
   ],
   "source": [
    "#creating \n",
    "a2=a3[0]\n",
    "df=pd.DataFrame(a2)\n",
    "df"
   ]
  },
  {
   "cell_type": "markdown",
   "metadata": {},
   "source": [
    "#### 1. Creating arrays"
   ]
  },
  {
   "cell_type": "code",
   "execution_count": 6,
   "metadata": {},
   "outputs": [
    {
     "data": {
      "text/plain": [
       "array([1, 2, 3])"
      ]
     },
     "execution_count": 6,
     "metadata": {},
     "output_type": "execute_result"
    }
   ],
   "source": [
    "#with mannual entries\n",
    "sample_array=np.array([1,2,3])\n",
    "sample_array"
   ]
  },
  {
   "cell_type": "code",
   "execution_count": 7,
   "metadata": {},
   "outputs": [
    {
     "name": "stdout",
     "output_type": "stream",
     "text": [
      "[[1. 1. 1.]\n",
      " [1. 1. 1.]\n",
      " [1. 1. 1.]]\n",
      "\n",
      "[[0. 0. 0.]\n",
      " [0. 0. 0.]\n",
      " [0. 0. 0.]]\n",
      "\n",
      "[ 0  2  4  6  8 10 12 14 16 18 20 22 24 26 28 30 32 34 36 38 40 42 44 46\n",
      " 48]\n",
      "\n",
      "[5 0 3 2 0 8]\n",
      "\n",
      "[[0.35416158 0.4327092  0.09106595 0.78144601]\n",
      " [0.17198016 0.6377597  0.00768692 0.56118563]\n",
      " [0.02126554 0.88312465 0.1512469  0.42626597]]\n"
     ]
    }
   ],
   "source": [
    "#ones \n",
    "\n",
    "ones=np.ones((3,3))\n",
    "print(ones, end=\"\\n\\n\")\n",
    "\n",
    "\n",
    "#zeros\n",
    "\n",
    "zeroes=np.zeros((3,3))\n",
    "print(zeroes, end=\"\\n\\n\")\n",
    "\n",
    "\n",
    "#arrange : get from \"start\" to \"stop\" with certain \"steps\"\n",
    "\n",
    "arangeArray=np.arange(0,50,2)\n",
    "print(arangeArray,end=\"\\n\\n\")\n",
    "\n",
    "\n",
    "#with random integers\n",
    "randomArr=np.random.randint(0,10,size=(6))\n",
    "print(randomArr,end=\"\\n\\n\")\\\n",
    "\n",
    "\n",
    "#with random fractions \n",
    "randArrFrac=np.random.random((3,4))\n",
    "print(randArrFrac)"
   ]
  },
  {
   "cell_type": "markdown",
   "metadata": {},
   "source": [
    "#### preudo random numbers:\n",
    "<li style=\"margin:00px\">to fixate the random number for every single  invocation of random function\n",
    "</li>\n",
    "<li style=\"margin:00px\">we do this using <code>random.seed\n",
    "</li></code>\n"
   ]
  },
  {
   "cell_type": "code",
   "execution_count": 8,
   "metadata": {},
   "outputs": [
    {
     "data": {
      "text/plain": [
       "array([[9, 9, 7],\n",
       "       [3, 9, 8],\n",
       "       [3, 2, 6]])"
      ]
     },
     "execution_count": 8,
     "metadata": {},
     "output_type": "execute_result"
    }
   ],
   "source": [
    "np.random.seed(2) #fixing a seed for every execution\n",
    "\n",
    "#compile this cell n times and get same 3X3 matrix\n",
    "np.random.randint(1,10,size=(3,3))\n"
   ]
  },
  {
   "cell_type": "markdown",
   "metadata": {},
   "source": [
    "#### 2. viewing arrays and Matrices"
   ]
  },
  {
   "cell_type": "code",
   "execution_count": 9,
   "metadata": {},
   "outputs": [
    {
     "name": "stdout",
     "output_type": "stream",
     "text": [
      "[1. 2. 3. 4. 5. 6. 7. 8. 9.]\n",
      "\n",
      "[[[ 1.  2.]\n",
      "  [ 4.  5.]]\n",
      "\n",
      " [[10. 11.]\n",
      "  [13. 14.]]]\n",
      "\n"
     ]
    }
   ],
   "source": [
    "# viewing all the unique numbers\n",
    "print(np.unique(a2),end=\"\\n\\n\")\n",
    "\n",
    "#sliced values :\n",
    "\n",
    "print(a3[:2,:2,:2],end=\"\\n\\n\")\n",
    "\n"
   ]
  },
  {
   "cell_type": "markdown",
   "metadata": {},
   "source": [
    "##### an excercise:\n",
    "\n",
    "suppose we got this array"
   ]
  },
  {
   "cell_type": "code",
   "execution_count": 10,
   "metadata": {},
   "outputs": [
    {
     "data": {
      "text/plain": [
       "array([[[[6, 9, 6],\n",
       "         [1, 1, 2]],\n",
       "\n",
       "        [[8, 7, 3],\n",
       "         [5, 6, 3]]],\n",
       "\n",
       "\n",
       "       [[[5, 3, 5],\n",
       "         [8, 8, 2]],\n",
       "\n",
       "        [[8, 1, 7],\n",
       "         [8, 7, 2]]]])"
      ]
     },
     "execution_count": 10,
     "metadata": {},
     "output_type": "execute_result"
    }
   ],
   "source": [
    "np.random.seed(1)\n",
    "ar= np.random.randint(1,10,size=(2,2,2,3))\n",
    "ar\n",
    "\n",
    "#and we want to access the first 6,9,6 out of this then"
   ]
  },
  {
   "cell_type": "code",
   "execution_count": 11,
   "metadata": {},
   "outputs": [
    {
     "data": {
      "text/plain": [
       "array([6, 9, 6])"
      ]
     },
     "execution_count": 11,
     "metadata": {},
     "output_type": "execute_result"
    }
   ],
   "source": [
    "#answer\n",
    "ar[0][0][0][:]"
   ]
  },
  {
   "cell_type": "markdown",
   "metadata": {},
   "source": [
    "#### 3.manipulating the arrays "
   ]
  },
  {
   "cell_type": "markdown",
   "metadata": {},
   "source": [
    "##### Arithmetic"
   ]
  },
  {
   "cell_type": "code",
   "execution_count": 15,
   "metadata": {},
   "outputs": [
    {
     "data": {
      "text/plain": [
       "array([1, 2, 3])"
      ]
     },
     "execution_count": 15,
     "metadata": {},
     "output_type": "execute_result"
    }
   ],
   "source": [
    "a1=np.array((1,2,3))\n",
    "a1"
   ]
  },
  {
   "cell_type": "code",
   "execution_count": 16,
   "metadata": {},
   "outputs": [
    {
     "name": "stdout",
     "output_type": "stream",
     "text": [
      "[2 3 4]\n",
      "[2 4 6]\n",
      "[0 1 2]\n",
      "[False False  True]\n"
     ]
    }
   ],
   "source": [
    "#addition\n",
    "print(a1+1)  \n",
    "\n",
    "#multiplication\n",
    "print(a1*2)\n",
    "\n",
    "#subtraction\n",
    "print(a1-1)\n",
    "\n",
    "#boolean comparison\n",
    "print(a1>2)\n",
    "\n"
   ]
  },
  {
   "cell_type": "code",
   "execution_count": 17,
   "metadata": {},
   "outputs": [
    {
     "name": "stdout",
     "output_type": "stream",
     "text": [
      "[[0 1 8]\n",
      " [8 3 9]]\n",
      "\n",
      "[8 7 3]\n",
      "\n",
      "[[ 0  7 24]\n",
      " [64 21 27]]\n"
     ]
    }
   ],
   "source": [
    "#between two arrays\n",
    "\n",
    "p1=np.random.randint(0,10,size=(2,3))\n",
    "p2=np.random.randint(0,10,size=(3))\n",
    "print(p1, end=\"\\n\\n\")\n",
    "print(p2,end=\"\\n\\n\")\n",
    "\n",
    "#multiplying both of array\n",
    "print(p1*p2)\n",
    "\n"
   ]
  },
  {
   "cell_type": "markdown",
   "metadata": {},
   "source": [
    "### Broadcasting in simplest Terms :\n",
    "<strong>\n",
    "Get the highest order dimension of the \n",
    "matrix if and only if having highest order dimension count as 1 \n",
    "to match with the other \n",
    "</strong>"
   ]
  },
  {
   "cell_type": "markdown",
   "metadata": {},
   "source": [
    "#### numpy implementation of arithmetics"
   ]
  },
  {
   "cell_type": "code",
   "execution_count": 18,
   "metadata": {},
   "outputs": [
    {
     "name": "stdout",
     "output_type": "stream",
     "text": [
      "[[ 8  8 11]\n",
      " [16 10 12]]\n",
      "[[ 0  7 24]\n",
      " [64 21 27]]\n",
      "[[0.         0.14285714 2.66666667]\n",
      " [1.         0.42857143 3.        ]]\n"
     ]
    }
   ],
   "source": [
    "#add\n",
    "print(np.add(p1,p2))\n",
    "\n",
    "#multiply\n",
    "print(np.multiply(p1,p2))\n",
    "\n",
    "#divide\n",
    "print(np.divide(p1,p2))\n"
   ]
  },
  {
   "cell_type": "markdown",
   "metadata": {},
   "source": [
    "#### 4. Aggregation "
   ]
  },
  {
   "cell_type": "code",
   "execution_count": 19,
   "metadata": {},
   "outputs": [
    {
     "name": "stdout",
     "output_type": "stream",
     "text": [
      "Using numpy wala sum 6\n",
      "Using python wala sum 6\n"
     ]
    }
   ],
   "source": [
    "listy_list=[1,2,3]\n",
    "\n",
    "print(\"Using numpy wala sum\",np.sum(listy_list))\n",
    "print(\"Using python wala sum\",sum(listy_list))\n",
    "\n"
   ]
  },
  {
   "cell_type": "markdown",
   "metadata": {},
   "source": [
    "<mark> Tip </mark>\n",
    " Remember to use python fuctions with python data structures and numpy function with numpy data structures\n",
    " \n",
    " "
   ]
  },
  {
   "cell_type": "code",
   "execution_count": 34,
   "metadata": {},
   "outputs": [
    {
     "name": "stdout",
     "output_type": "stream",
     "text": [
      "4.5 ms ± 46.5 µs per loop (mean ± std. dev. of 7 runs, 100 loops each)\n",
      "17.5 µs ± 71.5 ns per loop (mean ± std. dev. of 7 runs, 100,000 loops each)\n"
     ]
    }
   ],
   "source": [
    "#summition \n",
    "\n",
    "massive_array=np.random.randint(1,10,100000)\n",
    "%timeit sum(massive_array)\n",
    "%timeit np.sum(massive_array)\n",
    "\n",
    "#As we can see numpy sum funtion is optimized for working with numpy arrays"
   ]
  },
  {
   "cell_type": "code",
   "execution_count": 36,
   "metadata": {},
   "outputs": [
    {
     "data": {
      "text/plain": [
       "9"
      ]
     },
     "execution_count": 36,
     "metadata": {},
     "output_type": "execute_result"
    }
   ],
   "source": [
    "#max\n",
    "\n",
    "np.max(massive_array)\n",
    "\n"
   ]
  },
  {
   "cell_type": "code",
   "execution_count": 37,
   "metadata": {},
   "outputs": [
    {
     "data": {
      "text/plain": [
       "1"
      ]
     },
     "execution_count": 37,
     "metadata": {},
     "output_type": "execute_result"
    }
   ],
   "source": [
    "#min\n",
    "np.min(massive_array)"
   ]
  },
  {
   "cell_type": "code",
   "execution_count": 39,
   "metadata": {},
   "outputs": [
    {
     "data": {
      "text/plain": [
       "100000"
      ]
     },
     "execution_count": 39,
     "metadata": {},
     "output_type": "execute_result"
    }
   ],
   "source": [
    "#count()\n",
    "np.count_nonzero(massive_array)"
   ]
  },
  {
   "cell_type": "code",
   "execution_count": 41,
   "metadata": {},
   "outputs": [
    {
     "data": {
      "text/plain": [
       "2.5813748153842364"
      ]
     },
     "execution_count": 41,
     "metadata": {},
     "output_type": "execute_result"
    }
   ],
   "source": [
    "#standard deviation\n",
    "np.std(massive_array)"
   ]
  },
  {
   "cell_type": "code",
   "execution_count": 42,
   "metadata": {},
   "outputs": [
    {
     "data": {
      "text/plain": [
       "5.00375"
      ]
     },
     "execution_count": 42,
     "metadata": {},
     "output_type": "execute_result"
    }
   ],
   "source": [
    "#meann\n",
    "np.mean(massive_array)"
   ]
  },
  {
   "cell_type": "code",
   "execution_count": 43,
   "metadata": {},
   "outputs": [
    {
     "data": {
      "text/plain": [
       "5.0"
      ]
     },
     "execution_count": 43,
     "metadata": {},
     "output_type": "execute_result"
    }
   ],
   "source": [
    "#median\n",
    "np.median(massive_array)"
   ]
  },
  {
   "cell_type": "code",
   "execution_count": 44,
   "metadata": {},
   "outputs": [
    {
     "data": {
      "text/plain": [
       "6.6634959375"
      ]
     },
     "execution_count": 44,
     "metadata": {},
     "output_type": "execute_result"
    }
   ],
   "source": [
    "#variance\n",
    "np.var(massive_array)"
   ]
  },
  {
   "cell_type": "markdown",
   "metadata": {},
   "source": [
    "#### Relation between Variance and Standard Deviation\n",
    "\n",
    " = $$Standard Deviation=\\sqrt{Variance}$$\n"
   ]
  },
  {
   "cell_type": "markdown",
   "metadata": {},
   "source": [
    "\n",
    "Variance\n",
    "σ2\t=\t \n",
    "2062 + 762 + (−224)2 + 362 + (−94)2\n",
    "5\n",
    " \n",
    " \t=\t \n",
    "42436 + 5776 + 50176 + 1296 + 8836\n",
    "5\n",
    " \n",
    " \t=\t \n",
    "108520\n",
    "5\n",
    " \n",
    " \t=\t21704"
   ]
  },
  {
   "cell_type": "markdown",
   "metadata": {},
   "source": [
    "#### Both  Variance and Standard Deviation are used to account the degree of distribution of data away from the mean of the data\n",
    "\n",
    "![](https://www.mathsisfun.com/data/images/statistics-dogs-mean.gif)\n",
    "\n",
    "![](https://www.mathsisfun.com/data/images/statistics-dogs-deviation.gif)"
   ]
  },
  {
   "cell_type": "markdown",
   "metadata": {},
   "source": [
    "Varianc = 2062 + 762 + (−224)2 + 362 + (−94)2\n",
    "/5\n",
    " \n",
    " \t=\t \n",
    "42436 + 5776 + 50176 + 1296 + 8836 /5\n",
    " \n",
    " \t=\t \n",
    "108520/5\n",
    " \n",
    " \t=\t21704 IS THE VARIANCE"
   ]
  },
  {
   "cell_type": "markdown",
   "metadata": {},
   "source": [
    "Standard Deviation\n",
    "σ\t=\t√21704\n",
    " \t=\t147.32...\n",
    " \t=\t147 (to the nearest mm)"
   ]
  },
  {
   "cell_type": "markdown",
   "metadata": {},
   "source": [
    "#### 5. Reshaping and trasposing"
   ]
  },
  {
   "cell_type": "code",
   "execution_count": 54,
   "metadata": {},
   "outputs": [],
   "source": [
    "a2=a2.reshape(9,1)  #Reshaping "
   ]
  },
  {
   "cell_type": "code",
   "execution_count": 61,
   "metadata": {},
   "outputs": [
    {
     "name": "stdout",
     "output_type": "stream",
     "text": [
      "(1, 9)\n"
     ]
    }
   ],
   "source": [
    "print(a2.T.shape)  #Transposing"
   ]
  },
  {
   "cell_type": "code",
   "execution_count": 63,
   "metadata": {},
   "outputs": [
    {
     "data": {
      "text/plain": [
       "array([[1., 2., 3., 4., 5., 6., 7., 8., 9.]])"
      ]
     },
     "execution_count": 63,
     "metadata": {},
     "output_type": "execute_result"
    }
   ],
   "source": [
    "a2.T"
   ]
  },
  {
   "cell_type": "code",
   "execution_count": 82,
   "metadata": {},
   "outputs": [
    {
     "data": {
      "text/plain": [
       "(5, 3)"
      ]
     },
     "execution_count": 82,
     "metadata": {},
     "output_type": "execute_result"
    }
   ],
   "source": [
    "salesData=np.random.randint(1,20,size=(5,3))\n",
    "sales=pd.DataFrame(data=salesData,columns=[\"Almond Butter\",\"Peanut Butter\",\"Cashew Butter\"],index=[\"Mon\",\"Tues\",\"Wed\",\"Thrus\", \"Fri\"])\n",
    "sales.shape"
   ]
  },
  {
   "cell_type": "code",
   "execution_count": 80,
   "metadata": {},
   "outputs": [
    {
     "data": {
      "text/plain": [
       "(3, 1)"
      ]
     },
     "execution_count": 80,
     "metadata": {},
     "output_type": "execute_result"
    }
   ],
   "source": [
    "butterPricesData=np.array([10,8,12])\n",
    "butterPrices=pd.DataFrame(butterPricesData,columns=[\"Prices\"],index=[\"Almond Butter\",\"Peanut Butter\",\"Cashew Butter\"])\n",
    "butterPrices.shape"
   ]
  },
  {
   "cell_type": "code",
   "execution_count": 83,
   "metadata": {},
   "outputs": [],
   "source": [
    "sales[\"Total $\"]=salesData.dot(butterPricesData)"
   ]
  },
  {
   "cell_type": "code",
   "execution_count": 84,
   "metadata": {},
   "outputs": [
    {
     "data": {
      "text/html": [
       "<div>\n",
       "<style scoped>\n",
       "    .dataframe tbody tr th:only-of-type {\n",
       "        vertical-align: middle;\n",
       "    }\n",
       "\n",
       "    .dataframe tbody tr th {\n",
       "        vertical-align: top;\n",
       "    }\n",
       "\n",
       "    .dataframe thead th {\n",
       "        text-align: right;\n",
       "    }\n",
       "</style>\n",
       "<table border=\"1\" class=\"dataframe\">\n",
       "  <thead>\n",
       "    <tr style=\"text-align: right;\">\n",
       "      <th></th>\n",
       "      <th>Almond Butter</th>\n",
       "      <th>Peanut Butter</th>\n",
       "      <th>Cashew Butter</th>\n",
       "      <th>Total $</th>\n",
       "    </tr>\n",
       "  </thead>\n",
       "  <tbody>\n",
       "    <tr>\n",
       "      <th>Mon</th>\n",
       "      <td>19</td>\n",
       "      <td>19</td>\n",
       "      <td>5</td>\n",
       "      <td>402</td>\n",
       "    </tr>\n",
       "    <tr>\n",
       "      <th>Tues</th>\n",
       "      <td>10</td>\n",
       "      <td>15</td>\n",
       "      <td>17</td>\n",
       "      <td>424</td>\n",
       "    </tr>\n",
       "    <tr>\n",
       "      <th>Wed</th>\n",
       "      <td>1</td>\n",
       "      <td>11</td>\n",
       "      <td>7</td>\n",
       "      <td>182</td>\n",
       "    </tr>\n",
       "    <tr>\n",
       "      <th>Thrus</th>\n",
       "      <td>19</td>\n",
       "      <td>14</td>\n",
       "      <td>8</td>\n",
       "      <td>398</td>\n",
       "    </tr>\n",
       "    <tr>\n",
       "      <th>Fri</th>\n",
       "      <td>1</td>\n",
       "      <td>8</td>\n",
       "      <td>17</td>\n",
       "      <td>278</td>\n",
       "    </tr>\n",
       "  </tbody>\n",
       "</table>\n",
       "</div>"
      ],
      "text/plain": [
       "       Almond Butter  Peanut Butter  Cashew Butter  Total $\n",
       "Mon               19             19              5      402\n",
       "Tues              10             15             17      424\n",
       "Wed                1             11              7      182\n",
       "Thrus             19             14              8      398\n",
       "Fri                1              8             17      278"
      ]
     },
     "execution_count": 84,
     "metadata": {},
     "output_type": "execute_result"
    }
   ],
   "source": [
    "sales"
   ]
  },
  {
   "cell_type": "markdown",
   "metadata": {},
   "source": [
    "## Turning Images to Numpy Arrays"
   ]
  },
  {
   "cell_type": "markdown",
   "metadata": {},
   "source": [
    "<img src=\"./amogus.jpg\"></img>"
   ]
  },
  {
   "cell_type": "code",
   "execution_count": 89,
   "metadata": {},
   "outputs": [
    {
     "data": {
      "text/plain": [
       "(3, 3397986, (933, 1214, 3))"
      ]
     },
     "execution_count": 89,
     "metadata": {},
     "output_type": "execute_result"
    }
   ],
   "source": [
    "from matplotlib.image import imread\n",
    "\n",
    "panda=imread(\"./amogus.jpg\")\n",
    "panda.ndim, panda.size,panda.shape"
   ]
  },
  {
   "cell_type": "code",
   "execution_count": null,
   "metadata": {},
   "outputs": [],
   "source": []
  }
 ],
 "metadata": {
  "kernelspec": {
   "display_name": "Python 3.9.12 ('base')",
   "language": "python",
   "name": "python3"
  },
  "language_info": {
   "codemirror_mode": {
    "name": "ipython",
    "version": 3
   },
   "file_extension": ".py",
   "mimetype": "text/x-python",
   "name": "python",
   "nbconvert_exporter": "python",
   "pygments_lexer": "ipython3",
   "version": "3.9.12"
  },
  "orig_nbformat": 4,
  "vscode": {
   "interpreter": {
    "hash": "ad2bdc8ecc057115af97d19610ffacc2b4e99fae6737bb82f5d7fb13d2f2c186"
   }
  }
 },
 "nbformat": 4,
 "nbformat_minor": 2
}
